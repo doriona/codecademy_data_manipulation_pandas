{
 "cells": [
  {
   "cell_type": "markdown",
   "id": "01e66f5e",
   "metadata": {},
   "source": [
    "## References\n",
    "* [Regular Expressions Documentation - Groups](https://docs.python.org/3/library/re.html#index-17)\n",
    "* [Pandas documentation - pandas.Series.replace](https://pandas.pydata.org/pandas-docs/stable/reference/api/pandas.Series.replace.html?highlight=replace#pandas.Series.replace)\n",
    "* [Pandas documentation - convert to categorical dtype](https://pandas.pydata.org/pandas-docs/stable/user_guide/categorical.html?highlight=string#series-creation)"
   ]
  },
  {
   "cell_type": "markdown",
   "id": "4339a11b",
   "metadata": {},
   "source": [
    "# Data Manipulation Pandas - Jeopardy Project\n",
    "## Project Goals\n",
    "\n",
    "You will work to write several functions that investigate a dataset of 'Jeopardy!' questions and answers. Filter the dataset for topics that you’re interested in, compute the average difficulty of those questions, and train to become the next Jeopardy champion.\n",
    "\n",
    "## Project Requirements\n",
    "We’ve provided a csv file containing data about the game show 'Jeopardy!' in a file named `jeopardy.csv`. Load the data into a DataFrame and investigate its contents. Try to print out specific columns.\n",
    "\n",
    "Note that in order to make this project as \"real-world\" as possible, we haven’t modified the data at all — we’re giving it to you exactly how we found it. As a result, this data isn’t as \"clean\" as the datasets you normally find on Codecademy. More specifically, there’s something odd about the column names. After you figure out the problem with the column names, you may want to rename them to make your life easier the rest of the project."
   ]
  },
  {
   "cell_type": "markdown",
   "id": "b8092dda",
   "metadata": {},
   "source": [
    "## Load and Clean the dataset"
   ]
  },
  {
   "cell_type": "code",
   "execution_count": 1,
   "id": "5c8f1e56",
   "metadata": {},
   "outputs": [],
   "source": [
    "import pandas as pd\n",
    "import numpy as np"
   ]
  },
  {
   "cell_type": "code",
   "execution_count": 2,
   "id": "d5b27602",
   "metadata": {},
   "outputs": [
    {
     "data": {
      "text/html": [
       "<div>\n",
       "<style scoped>\n",
       "    .dataframe tbody tr th:only-of-type {\n",
       "        vertical-align: middle;\n",
       "    }\n",
       "\n",
       "    .dataframe tbody tr th {\n",
       "        vertical-align: top;\n",
       "    }\n",
       "\n",
       "    .dataframe thead th {\n",
       "        text-align: right;\n",
       "    }\n",
       "</style>\n",
       "<table border=\"1\" class=\"dataframe\">\n",
       "  <thead>\n",
       "    <tr style=\"text-align: right;\">\n",
       "      <th></th>\n",
       "      <th>Show Number</th>\n",
       "      <th>Air Date</th>\n",
       "      <th>Round</th>\n",
       "      <th>Category</th>\n",
       "      <th>Value</th>\n",
       "      <th>Question</th>\n",
       "      <th>Answer</th>\n",
       "    </tr>\n",
       "  </thead>\n",
       "  <tbody>\n",
       "    <tr>\n",
       "      <th>0</th>\n",
       "      <td>4680</td>\n",
       "      <td>2004-12-31</td>\n",
       "      <td>Jeopardy!</td>\n",
       "      <td>HISTORY</td>\n",
       "      <td>$200</td>\n",
       "      <td>For the last 8 years of his life, Galileo was ...</td>\n",
       "      <td>Copernicus</td>\n",
       "    </tr>\n",
       "    <tr>\n",
       "      <th>1</th>\n",
       "      <td>4680</td>\n",
       "      <td>2004-12-31</td>\n",
       "      <td>Jeopardy!</td>\n",
       "      <td>ESPN's TOP 10 ALL-TIME ATHLETES</td>\n",
       "      <td>$200</td>\n",
       "      <td>No. 2: 1912 Olympian; football star at Carlisl...</td>\n",
       "      <td>Jim Thorpe</td>\n",
       "    </tr>\n",
       "    <tr>\n",
       "      <th>2</th>\n",
       "      <td>4680</td>\n",
       "      <td>2004-12-31</td>\n",
       "      <td>Jeopardy!</td>\n",
       "      <td>EVERYBODY TALKS ABOUT IT...</td>\n",
       "      <td>$200</td>\n",
       "      <td>The city of Yuma in this state has a record av...</td>\n",
       "      <td>Arizona</td>\n",
       "    </tr>\n",
       "    <tr>\n",
       "      <th>3</th>\n",
       "      <td>4680</td>\n",
       "      <td>2004-12-31</td>\n",
       "      <td>Jeopardy!</td>\n",
       "      <td>THE COMPANY LINE</td>\n",
       "      <td>$200</td>\n",
       "      <td>In 1963, live on \"The Art Linkletter Show\", th...</td>\n",
       "      <td>McDonald's</td>\n",
       "    </tr>\n",
       "    <tr>\n",
       "      <th>4</th>\n",
       "      <td>4680</td>\n",
       "      <td>2004-12-31</td>\n",
       "      <td>Jeopardy!</td>\n",
       "      <td>EPITAPHS &amp; TRIBUTES</td>\n",
       "      <td>$200</td>\n",
       "      <td>Signer of the Dec. of Indep., framer of the Co...</td>\n",
       "      <td>John Adams</td>\n",
       "    </tr>\n",
       "  </tbody>\n",
       "</table>\n",
       "</div>"
      ],
      "text/plain": [
       "   Show Number   Air Date      Round                         Category  Value  \\\n",
       "0         4680 2004-12-31  Jeopardy!                          HISTORY   $200   \n",
       "1         4680 2004-12-31  Jeopardy!  ESPN's TOP 10 ALL-TIME ATHLETES   $200   \n",
       "2         4680 2004-12-31  Jeopardy!      EVERYBODY TALKS ABOUT IT...   $200   \n",
       "3         4680 2004-12-31  Jeopardy!                 THE COMPANY LINE   $200   \n",
       "4         4680 2004-12-31  Jeopardy!              EPITAPHS & TRIBUTES   $200   \n",
       "\n",
       "                                            Question      Answer  \n",
       "0  For the last 8 years of his life, Galileo was ...  Copernicus  \n",
       "1  No. 2: 1912 Olympian; football star at Carlisl...  Jim Thorpe  \n",
       "2  The city of Yuma in this state has a record av...     Arizona  \n",
       "3  In 1963, live on \"The Art Linkletter Show\", th...  McDonald's  \n",
       "4  Signer of the Dec. of Indep., framer of the Co...  John Adams  "
      ]
     },
     "execution_count": 2,
     "metadata": {},
     "output_type": "execute_result"
    }
   ],
   "source": [
    "jeopardy_data = pd.read_csv('./materials/jeopardy.csv',\n",
    "                            parse_dates = [' Air Date']\n",
    "                           )\n",
    "jeopardy_data.head()"
   ]
  },
  {
   "cell_type": "code",
   "execution_count": 3,
   "id": "1129dcf8",
   "metadata": {},
   "outputs": [
    {
     "name": "stdout",
     "output_type": "stream",
     "text": [
      "<class 'pandas.core.frame.DataFrame'>\n",
      "RangeIndex: 216930 entries, 0 to 216929\n",
      "Data columns (total 7 columns):\n",
      " #   Column       Non-Null Count   Dtype         \n",
      "---  ------       --------------   -----         \n",
      " 0   Show Number  216930 non-null  int64         \n",
      " 1    Air Date    216930 non-null  datetime64[ns]\n",
      " 2    Round       216930 non-null  object        \n",
      " 3    Category    216930 non-null  object        \n",
      " 4    Value       216930 non-null  object        \n",
      " 5    Question    216930 non-null  object        \n",
      " 6    Answer      216928 non-null  object        \n",
      "dtypes: datetime64[ns](1), int64(1), object(5)\n",
      "memory usage: 11.6+ MB\n"
     ]
    }
   ],
   "source": [
    "jeopardy_data.info()"
   ]
  },
  {
   "cell_type": "markdown",
   "id": "619e9b85",
   "metadata": {},
   "source": [
    "### Clean column names\n",
    "There is a space in front of the names, remove and lower case."
   ]
  },
  {
   "cell_type": "code",
   "execution_count": 4,
   "id": "21e76847",
   "metadata": {},
   "outputs": [
    {
     "data": {
      "text/plain": [
       "Index(['Show Number', ' Air Date', ' Round', ' Category', ' Value',\n",
       "       ' Question', ' Answer'],\n",
       "      dtype='object')"
      ]
     },
     "execution_count": 4,
     "metadata": {},
     "output_type": "execute_result"
    }
   ],
   "source": [
    "jeopardy_data.columns"
   ]
  },
  {
   "cell_type": "code",
   "execution_count": 5,
   "id": "08e5a2ca",
   "metadata": {},
   "outputs": [],
   "source": [
    "jeopardy_data.rename(columns = {'Show Number': 'show_num',\n",
    "                               ' Air Date': 'air_date',\n",
    "                               ' Round': 'rounds',\n",
    "                               ' Category': 'category',\n",
    "                               ' Value': 'price',\n",
    "                               ' Question': 'question',\n",
    "                               ' Answer': 'answer'\n",
    "                              }, inplace = True)"
   ]
  },
  {
   "cell_type": "markdown",
   "id": "78141dec",
   "metadata": {},
   "source": [
    "### Check for duplicates"
   ]
  },
  {
   "cell_type": "code",
   "execution_count": 6,
   "id": "d310a77e",
   "metadata": {},
   "outputs": [
    {
     "data": {
      "text/plain": [
       "False    216930\n",
       "dtype: int64"
      ]
     },
     "execution_count": 6,
     "metadata": {},
     "output_type": "execute_result"
    }
   ],
   "source": [
    "jeopardy_data.duplicated().value_counts()"
   ]
  },
  {
   "cell_type": "code",
   "execution_count": 7,
   "id": "44b738a9",
   "metadata": {},
   "outputs": [
    {
     "data": {
      "text/plain": [
       "False    216124\n",
       "True        806\n",
       "Name: question, dtype: int64"
      ]
     },
     "execution_count": 7,
     "metadata": {},
     "output_type": "execute_result"
    }
   ],
   "source": [
    "jeopardy_data.question.duplicated().value_counts()"
   ]
  },
  {
   "cell_type": "code",
   "execution_count": 8,
   "id": "ea94f257",
   "metadata": {},
   "outputs": [
    {
     "data": {
      "text/html": [
       "<div>\n",
       "<style scoped>\n",
       "    .dataframe tbody tr th:only-of-type {\n",
       "        vertical-align: middle;\n",
       "    }\n",
       "\n",
       "    .dataframe tbody tr th {\n",
       "        vertical-align: top;\n",
       "    }\n",
       "\n",
       "    .dataframe thead th {\n",
       "        text-align: right;\n",
       "    }\n",
       "</style>\n",
       "<table border=\"1\" class=\"dataframe\">\n",
       "  <thead>\n",
       "    <tr style=\"text-align: right;\">\n",
       "      <th></th>\n",
       "      <th>show_num</th>\n",
       "      <th>air_date</th>\n",
       "      <th>rounds</th>\n",
       "      <th>category</th>\n",
       "      <th>price</th>\n",
       "      <th>question</th>\n",
       "      <th>answer</th>\n",
       "    </tr>\n",
       "  </thead>\n",
       "  <tbody>\n",
       "  </tbody>\n",
       "</table>\n",
       "</div>"
      ],
      "text/plain": [
       "Empty DataFrame\n",
       "Columns: [show_num, air_date, rounds, category, price, question, answer]\n",
       "Index: []"
      ]
     },
     "execution_count": 8,
     "metadata": {},
     "output_type": "execute_result"
    }
   ],
   "source": [
    "jeopardy_data[(jeopardy_data.question.duplicated()) & (jeopardy_data.category == 'NOTHING')]"
   ]
  },
  {
   "cell_type": "markdown",
   "id": "5ea6448b",
   "metadata": {},
   "source": [
    "### Clean `price` column\n",
    "+ Remove `$` and `,` and convert to numeric (int).\n",
    "\n",
    "\n",
    "+ Check for missing values: replace `'None'` with `0` (I am considering `'None'` as zero dollars, and not as `NaN`)"
   ]
  },
  {
   "cell_type": "code",
   "execution_count": 8,
   "id": "a4345434",
   "metadata": {},
   "outputs": [
    {
     "data": {
      "text/plain": [
       "array(['$1,000', '$1,020', '$1,100', '$1,111', '$1,183', '$1,200',\n",
       "       '$1,203', '$1,246', '$1,263', '$1,300', '$1,347', '$1,400',\n",
       "       '$1,407', '$1,492', '$1,500', '$1,512', '$1,534', '$1,600',\n",
       "       '$1,700', '$1,777', '$1,800', '$1,801', '$1,809', '$1,810',\n",
       "       '$1,900', '$10,000', '$10,400', '$10,800', '$100', '$1000',\n",
       "       '$11,000', '$11,200', '$11,600', '$12,000', '$12,400', '$1200',\n",
       "       '$13,000', '$13,200', '$13,800', '$14,000', '$14,200', '$16,400',\n",
       "       '$1600', '$18,000', '$2,000', '$2,001', '$2,021', '$2,100',\n",
       "       '$2,127', '$2,200', '$2,222', '$2,300', '$2,344', '$2,400',\n",
       "       '$2,500', '$2,600', '$2,700', '$2,746', '$2,800', '$2,811',\n",
       "       '$2,900', '$2,990', '$20', '$200', '$2000', '$22', '$250', '$2547',\n",
       "       '$3,000', '$3,100', '$3,150', '$3,200', '$3,201', '$3,300',\n",
       "       '$3,389', '$3,400', '$3,499', '$3,500', '$3,599', '$3,600',\n",
       "       '$3,700', '$3,800', '$3,900', '$3,989', '$300', '$350', '$367',\n",
       "       '$4,000', '$4,008', '$4,100', '$4,200', '$4,238', '$4,300',\n",
       "       '$4,400', '$4,500', '$4,600', '$4,637', '$4,700', '$4,800', '$400',\n",
       "       '$5', '$5,000', '$5,001', '$5,100', '$5,200', '$5,201', '$5,400',\n",
       "       '$5,401', '$5,500', '$5,600', '$5,700', '$5,800', '$50', '$500',\n",
       "       '$585', '$6,000', '$6,100', '$6,200', '$6,300', '$6,400', '$6,435',\n",
       "       '$6,600', '$6,700', '$6,800', '$600', '$601', '$7,000', '$7,200',\n",
       "       '$7,400', '$7,500', '$7,600', '$7,800', '$700', '$750', '$796',\n",
       "       '$8,000', '$8,200', '$8,400', '$8,500', '$8,600', '$8,700',\n",
       "       '$8,800', '$8,917', '$800', '$9,000', '$9,200', '$9,500', '$9,800',\n",
       "       '$900', 'None'], dtype=object)"
      ]
     },
     "execution_count": 8,
     "metadata": {},
     "output_type": "execute_result"
    }
   ],
   "source": [
    "jeopardy_data.price.sort_values().unique()"
   ]
  },
  {
   "cell_type": "code",
   "execution_count": 9,
   "id": "fcce6c8f",
   "metadata": {},
   "outputs": [],
   "source": [
    "jeopardy_data.price.replace('\\$(?P<dig1>\\d+),?(?P<dig2>\\d+)?$','\\g<dig1>\\g<dig2>', regex = True, inplace = True)\n",
    "jeopardy_data.price.replace('None', 0, regex = True, inplace = True)"
   ]
  },
  {
   "cell_type": "code",
   "execution_count": 10,
   "id": "284a22f2",
   "metadata": {},
   "outputs": [
    {
     "data": {
      "text/plain": [
       "array([    0,     5,    20,    22,    50,   100,   200,   250,   300,\n",
       "         350,   367,   400,   500,   585,   600,   601,   700,   750,\n",
       "         796,   800,   900,  1000,  1020,  1100,  1111,  1183,  1200,\n",
       "        1203,  1246,  1263,  1300,  1347,  1400,  1407,  1492,  1500,\n",
       "        1512,  1534,  1600,  1700,  1777,  1800,  1801,  1809,  1810,\n",
       "        1900,  2000,  2001,  2021,  2100,  2127,  2200,  2222,  2300,\n",
       "        2344,  2400,  2500,  2547,  2600,  2700,  2746,  2800,  2811,\n",
       "        2900,  2990,  3000,  3100,  3150,  3200,  3201,  3300,  3389,\n",
       "        3400,  3499,  3500,  3599,  3600,  3700,  3800,  3900,  3989,\n",
       "        4000,  4008,  4100,  4200,  4238,  4300,  4400,  4500,  4600,\n",
       "        4637,  4700,  4800,  5000,  5001,  5100,  5200,  5201,  5400,\n",
       "        5401,  5500,  5600,  5700,  5800,  6000,  6100,  6200,  6300,\n",
       "        6400,  6435,  6600,  6700,  6800,  7000,  7200,  7400,  7500,\n",
       "        7600,  7800,  8000,  8200,  8400,  8500,  8600,  8700,  8800,\n",
       "        8917,  9000,  9200,  9500,  9800, 10000, 10400, 10800, 11000,\n",
       "       11200, 11600, 12000, 12400, 13000, 13200, 13800, 14000, 14200,\n",
       "       16400, 18000])"
      ]
     },
     "execution_count": 10,
     "metadata": {},
     "output_type": "execute_result"
    }
   ],
   "source": [
    "jeopardy_data.price = pd.to_numeric(jeopardy_data.price)\n",
    "jeopardy_data.price.sort_values().unique()"
   ]
  },
  {
   "cell_type": "markdown",
   "id": "f62a0508",
   "metadata": {},
   "source": [
    "### Clean `rounds` column\n",
    "`rounds` only has five possible values. Convert to dtype \"category\"."
   ]
  },
  {
   "cell_type": "code",
   "execution_count": 11,
   "id": "03541633",
   "metadata": {},
   "outputs": [
    {
     "data": {
      "text/plain": [
       "array(['Jeopardy!', 'Double Jeopardy!', 'Final Jeopardy!', 'Tiebreaker'],\n",
       "      dtype=object)"
      ]
     },
     "execution_count": 11,
     "metadata": {},
     "output_type": "execute_result"
    }
   ],
   "source": [
    "jeopardy_data.rounds.unique()"
   ]
  },
  {
   "cell_type": "code",
   "execution_count": 12,
   "id": "6abc35c2",
   "metadata": {},
   "outputs": [],
   "source": [
    "jeopardy_data['rounds'] = jeopardy_data['rounds'].astype(\"category\")"
   ]
  },
  {
   "cell_type": "markdown",
   "id": "049ebb7b",
   "metadata": {},
   "source": [
    "### Clean `show_num` column\n",
    "Read by pd.read_csv() as an integer. It takes a relatively high number of possible values => convert to object"
   ]
  },
  {
   "cell_type": "code",
   "execution_count": 13,
   "id": "0fa3ced5",
   "metadata": {},
   "outputs": [],
   "source": [
    "jeopardy_data['show_num'] = jeopardy_data.show_num.astype(\"object\")"
   ]
  },
  {
   "cell_type": "code",
   "execution_count": 14,
   "id": "ab269811",
   "metadata": {
    "scrolled": true
   },
   "outputs": [
    {
     "data": {
      "text/plain": [
       "count     216930\n",
       "unique      3640\n",
       "top         2941\n",
       "freq          62\n",
       "Name: show_num, dtype: int64"
      ]
     },
     "execution_count": 14,
     "metadata": {},
     "output_type": "execute_result"
    }
   ],
   "source": [
    "jeopardy_data.show_num.describe()"
   ]
  },
  {
   "cell_type": "markdown",
   "id": "6c2f7454",
   "metadata": {},
   "source": [
    "There are data from 3640 different shows of Jeopardy"
   ]
  },
  {
   "cell_type": "markdown",
   "id": "c859b555",
   "metadata": {},
   "source": [
    "### Clean `category` column\n",
    "Leave it as object"
   ]
  },
  {
   "cell_type": "code",
   "execution_count": 15,
   "id": "229decda",
   "metadata": {},
   "outputs": [
    {
     "data": {
      "text/plain": [
       "count             216930\n",
       "unique             27995\n",
       "top       BEFORE & AFTER\n",
       "freq                 547\n",
       "Name: category, dtype: object"
      ]
     },
     "execution_count": 15,
     "metadata": {},
     "output_type": "execute_result"
    }
   ],
   "source": [
    "jeopardy_data.category.describe()"
   ]
  },
  {
   "cell_type": "markdown",
   "id": "bb127f11",
   "metadata": {},
   "source": [
    "### Clean `air_date` column\n",
    "It seems ok"
   ]
  },
  {
   "cell_type": "code",
   "execution_count": 16,
   "id": "e30616c1",
   "metadata": {},
   "outputs": [
    {
     "data": {
      "text/plain": [
       "count                           216930\n",
       "mean     2003-03-08 00:06:26.734891648\n",
       "min                1984-09-10 00:00:00\n",
       "25%                1999-03-11 00:00:00\n",
       "50%                2004-02-27 00:00:00\n",
       "75%                2008-02-06 00:00:00\n",
       "max                2012-01-27 00:00:00\n",
       "Name: air_date, dtype: object"
      ]
     },
     "execution_count": 16,
     "metadata": {},
     "output_type": "execute_result"
    }
   ],
   "source": [
    "jeopardy_data.air_date.describe(datetime_is_numeric=True)"
   ]
  },
  {
   "cell_type": "markdown",
   "id": "c00413c3",
   "metadata": {},
   "source": [
    "### Clean `answer` column\n",
    "There are a couple of missing values in this column. `pd.read_csv()` loads 'null' as NaN by default. I am keeping it as default when loading and checking the NaN entries to confirm if they are proper `NaN`s (missing values) or if the answer in Jeopardy was 'null'. "
   ]
  },
  {
   "cell_type": "code",
   "execution_count": 17,
   "id": "201b3a85",
   "metadata": {},
   "outputs": [
    {
     "data": {
      "text/plain": [
       "94817     NaN\n",
       "143297    NaN\n",
       "Name: answer, dtype: object"
      ]
     },
     "execution_count": 17,
     "metadata": {},
     "output_type": "execute_result"
    }
   ],
   "source": [
    "jeopardy_data.answer[jeopardy_data.answer.isnull()]"
   ]
  },
  {
   "cell_type": "code",
   "execution_count": 18,
   "id": "1ffda70d",
   "metadata": {
    "scrolled": true
   },
   "outputs": [
    {
     "data": {
      "text/plain": [
       "show_num                                                 6177\n",
       "air_date                                  2011-06-21 00:00:00\n",
       "rounds                                       Double Jeopardy!\n",
       "category                                              NOTHING\n",
       "price                                                     400\n",
       "question    This word for \"nothing\" precedes \"and void\" to...\n",
       "answer                                                    NaN\n",
       "Name: 143297, dtype: object"
      ]
     },
     "execution_count": 18,
     "metadata": {},
     "output_type": "execute_result"
    }
   ],
   "source": [
    "jeopardy_data.iloc[143297]"
   ]
  },
  {
   "cell_type": "code",
   "execution_count": 19,
   "id": "d6006675",
   "metadata": {
    "scrolled": false
   },
   "outputs": [
    {
     "data": {
      "text/plain": [
       "show_num                            4346\n",
       "air_date             2003-06-23 00:00:00\n",
       "rounds                         Jeopardy!\n",
       "category                   GOING \"N\"SANE\n",
       "price                                200\n",
       "question    It often precedes \"and void\"\n",
       "answer                               NaN\n",
       "Name: 94817, dtype: object"
      ]
     },
     "execution_count": 19,
     "metadata": {},
     "output_type": "execute_result"
    }
   ],
   "source": [
    "jeopardy_data.iloc[94817]"
   ]
  },
  {
   "cell_type": "markdown",
   "id": "0939e41a",
   "metadata": {},
   "source": [
    "In both cases the answer was 'null', they are not really missing values."
   ]
  },
  {
   "cell_type": "code",
   "execution_count": 20,
   "id": "6c94e3b2",
   "metadata": {},
   "outputs": [],
   "source": [
    "jeopardy_data.answer.replace(np.nan, 'null', inplace= True)"
   ]
  },
  {
   "cell_type": "code",
   "execution_count": 21,
   "id": "3ac21e06",
   "metadata": {},
   "outputs": [
    {
     "name": "stdout",
     "output_type": "stream",
     "text": [
      "<class 'pandas.core.frame.DataFrame'>\n",
      "RangeIndex: 216930 entries, 0 to 216929\n",
      "Data columns (total 7 columns):\n",
      " #   Column    Non-Null Count   Dtype         \n",
      "---  ------    --------------   -----         \n",
      " 0   show_num  216930 non-null  object        \n",
      " 1   air_date  216930 non-null  datetime64[ns]\n",
      " 2   rounds    216930 non-null  category      \n",
      " 3   category  216930 non-null  object        \n",
      " 4   price     216930 non-null  int64         \n",
      " 5   question  216930 non-null  object        \n",
      " 6   answer    216930 non-null  object        \n",
      "dtypes: category(1), datetime64[ns](1), int64(1), object(4)\n",
      "memory usage: 10.1+ MB\n"
     ]
    }
   ],
   "source": [
    "jeopardy_data.info()"
   ]
  }
 ],
 "metadata": {
  "kernelspec": {
   "display_name": "Python 3",
   "language": "python",
   "name": "python3"
  },
  "language_info": {
   "codemirror_mode": {
    "name": "ipython",
    "version": 3
   },
   "file_extension": ".py",
   "mimetype": "text/x-python",
   "name": "python",
   "nbconvert_exporter": "python",
   "pygments_lexer": "ipython3",
   "version": "3.9.1"
  }
 },
 "nbformat": 4,
 "nbformat_minor": 5
}
